{
  "nbformat": 4,
  "nbformat_minor": 0,
  "metadata": {
    "colab": {
      "provenance": []
    },
    "kernelspec": {
      "name": "python3",
      "display_name": "Python 3"
    },
    "language_info": {
      "name": "python"
    }
  },
  "cells": [
    {
      "cell_type": "code",
      "execution_count": 6,
      "metadata": {
        "colab": {
          "base_uri": "https://localhost:8080/"
        },
        "id": "DQDXuBSm2gKa",
        "outputId": "76359729-24e3-4e54-fb81-1636fe17ac86"
      },
      "outputs": [
        {
          "output_type": "stream",
          "name": "stderr",
          "text": [
            "<ipython-input-6-d8c02640fee2>:15: FutureWarning: The provided callable <function sum at 0x7ec4453cbe20> is currently using DataFrameGroupBy.sum. In a future version of pandas, the provided callable will be used directly. To keep current behavior pass the string \"sum\" instead.\n",
            "  customer_product_matrix = pd.pivot_table(transactions_merged, values='Quantity', index='CustomerID', columns='ProductID', aggfunc=np.sum, fill_value=0)\n"
          ]
        }
      ],
      "source": [
        "import pandas as pd\n",
        "import numpy as np\n",
        "from sklearn.metrics.pairwise import cosine_similarity\n",
        "from sklearn.preprocessing import StandardScaler\n",
        "\n",
        "customers_url = \"https://drive.google.com/uc?id=1bu_--mo79VdUG9oin4ybfFGRUSXAe-WE\"\n",
        "products_url = \"https://drive.google.com/uc?id=1IKuDizVapw-hyktwfpoAoaGtHtTNHfd0\"\n",
        "transactions_url = \"https://drive.google.com/uc?id=1saEqdbBB-vuk2hxoAf4TzDEsykdKlzbF\"\n",
        "\n",
        "customers_df = pd.read_csv(customers_url)\n",
        "products_df = pd.read_csv(products_url)\n",
        "transactions_df = pd.read_csv(transactions_url)\n",
        "\n",
        "transactions_merged = transactions_df.merge(customers_df, on='CustomerID').merge(products_df, on='ProductID')\n",
        "customer_product_matrix = pd.pivot_table(transactions_merged, values='Quantity', index='CustomerID', columns='ProductID', aggfunc=np.sum, fill_value=0)\n"
      ]
    },
    {
      "cell_type": "code",
      "source": [
        "scaler = StandardScaler()\n",
        "customer_product_matrix_scaled = scaler.fit_transform(customer_product_matrix)\n",
        "similarity_matrix = cosine_similarity(customer_product_matrix_scaled)\n",
        "\n",
        "lookalikes = {}\n",
        "for customer_id in range(1, 21):  # CustomerID C0001 to C0020\n",
        "    customer_index = customer_id - 1\n",
        "    similarity_scores = similarity_matrix[customer_index]\n",
        "    similar_customers = np.argsort(similarity_scores)[-4:-1]  # Top 3 excluding itself\n",
        "    similar_scores = similarity_scores[similar_customers]\n",
        "    lookalikes[f'C{customer_id:04d}'] = [(f'C{similar_customers[i]+1:04d}', similar_scores[i]) for i in range(3)]"
      ],
      "metadata": {
        "id": "pYK-RYgs2tI8"
      },
      "execution_count": 14,
      "outputs": []
    },
    {
      "cell_type": "code",
      "source": [
        "lookalike_data = []\n",
        "for customer_id, similar_customers in lookalikes.items():\n",
        "    for similar_customer in similar_customers:\n",
        "        lookalike_data.append([customer_id, similar_customer[0], similar_customer[1]])\n",
        "\n",
        "lookalike_df = pd.DataFrame(lookalike_data, columns=['CustomerID', 'LookalikeCustomerID', 'SimilarityScore'])\n",
        "lookalike_df.to_csv('Maithreyi_A_LookAlike.csv', index=False)\n",
        "print(lookalike_df.head())"
      ],
      "metadata": {
        "colab": {
          "base_uri": "https://localhost:8080/"
        },
        "id": "MFvgvhLY6ZXJ",
        "outputId": "6ea5227d-bba3-49be-ac0d-87db4695b218"
      },
      "execution_count": 15,
      "outputs": [
        {
          "output_type": "stream",
          "name": "stdout",
          "text": [
            "  CustomerID LookalikeCustomerID  SimilarityScore\n",
            "0      C0001               C0020         0.366609\n",
            "1      C0001               C0104         0.374002\n",
            "2      C0001               C0193         0.404928\n",
            "3      C0002               C0071         0.320158\n",
            "4      C0002               C0091         0.383778\n"
          ]
        }
      ]
    }
  ]
}